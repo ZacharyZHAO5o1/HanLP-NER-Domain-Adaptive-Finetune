{
  "nbformat": 4,
  "nbformat_minor": 0,
  "metadata": {
    "colab": {
      "name": "retrainHanLp.ipynb",
      "provenance": [],
      "collapsed_sections": [],
      "authorship_tag": "ABX9TyOc4hD1luLKuQeVOQJNg8UH",
      "include_colab_link": true
    },
    "kernelspec": {
      "name": "python3",
      "display_name": "Python 3"
    },
    "language_info": {
      "name": "python"
    },
    "accelerator": "GPU"
  },
  "cells": [
    {
      "cell_type": "markdown",
      "metadata": {
        "id": "view-in-github",
        "colab_type": "text"
      },
      "source": [
        "<a href=\"https://colab.research.google.com/github/ZacharyZHAO5o1/HanLP-NER-Domain-Adaptive-Finetune/blob/main/finetuneHanLp.ipynb\" target=\"_parent\"><img src=\"https://colab.research.google.com/assets/colab-badge.svg\" alt=\"Open In Colab\"/></a>"
      ]
    },
    {
      "cell_type": "code",
      "metadata": {
        "id": "MNjxv6Chb30H"
      },
      "source": [
        "! pip install hanlp[full]"
      ],
      "execution_count": null,
      "outputs": []
    },
    {
      "cell_type": "code",
      "metadata": {
        "id": "7wQXkp_BHK-r"
      },
      "source": [
        "import hanlp\n",
        "from hanlp.components.ner_tf import TransformerNamedEntityRecognizerTF\n",
        "recognizer = TransformerNamedEntityRecognizerTF()\n",
        "save_dir = 'data/model/ner/finetune_ner_albert_base_zh_msra'\n",
        "CONLL03_RESUME_TRAIN=\"train.tsv\"\n",
        "CONLL03_RESUME_TEST=\"test.tsv\""
      ],
      "execution_count": null,
      "outputs": []
    },
    {
      "cell_type": "code",
      "metadata": {
        "id": "jAe-PttcbnuS"
      },
      "source": [
        "recognizer.fit(CONLL03_RESUME_TRAIN, \n",
        "               CONLL03_RESUME_TEST,\n",
        "               save_dir, \n",
        "               epochs=100, \n",
        "               transformer='albert_base_zh',\n",
        "               finetune=hanlp.pretrained.ner.MSRA_NER_ALBERT_BASE_ZH)\n",
        "recognizer.load(save_dir)\n"
      ],
      "execution_count": null,
      "outputs": []
    },
    {
      "cell_type": "code",
      "metadata": {
        "id": "0AeCDxcA5ZaU"
      },
      "source": [
        "! zip -r model.zip data/model\n"
      ],
      "execution_count": null,
      "outputs": []
    },
    {
      "cell_type": "code",
      "metadata": {
        "colab": {
          "base_uri": "https://localhost:8080/"
        },
        "id": "pkD_NNRObra0",
        "outputId": "44511eb8-1234-4c9b-fc70-639f4dd3fcba"
      },
      "source": [
        "print(recognizer.predict(list('2020年6月23日上午，吴江区第十六届人大常委会第二十九次会议召开，审议和通过有关人事任免，同意李铭同志因工作变动辞去吴江区区长职务')))\n",
        "# recognizer.evaluate(CONLL03_RESUME_TEST, save_dir=save_dir)\n",
        "print(f'Model saved in {save_dir}')"
      ],
      "execution_count": null,
      "outputs": [
        {
          "output_type": "stream",
          "text": [
            "[('20', 'dataObj', 2, 4), ('2', 'dataObj', 7, 8), ('日', 'dataObj', 9, 10), ('人', 'dataObj', 20, 21), ('二', 'dataObj', 26, 27), ('人', 'dataObj', 42, 43), ('铭', 'dataObj', 50, 51), ('志', 'dataObj', 52, 53)]\n",
            "Model saved in data/model/ner/finetune_ner_albert_base_zh_msra\n"
          ],
          "name": "stdout"
        }
      ]
    },
    {
      "cell_type": "code",
      "metadata": {
        "colab": {
          "base_uri": "https://localhost:8080/"
        },
        "id": "Yhh6nYCr_mpG",
        "outputId": "5153c3af-170f-4c83-f4a4-56a8686c4cfd"
      },
      "source": [
        "print(recognizer.predict(list('您可以在使用我们的产品和/或服务的过程中查询或访问您的相关个人信息，包括头像、昵称、出生日期、性别、身高、体重等，手机客户端具体操作步骤：')))\n"
      ],
      "execution_count": null,
      "outputs": [
        {
          "output_type": "stream",
          "text": [
            "[('我们', 'entity', 6, 8), ('产品', 'dataObj', 9, 11), ('/', 'dataObj', 12, 13), ('程', 'dataObj', 18, 19), ('相', 'dataObj', 27, 28), ('个人信息', 'dataObj', 29, 33), ('头像', 'dataObj', 36, 38), ('昵称', 'dataObj', 39, 41), ('生日期', 'dataObj', 43, 46), ('性别', 'dataObj', 47, 49), ('身', 'dataObj', 50, 51), ('重', 'dataObj', 54, 55), ('手机客户端具', 'dataObj', 57, 63), ('操作', 'dataObj', 64, 66)]\n"
          ],
          "name": "stdout"
        }
      ]
    }
  ]
}